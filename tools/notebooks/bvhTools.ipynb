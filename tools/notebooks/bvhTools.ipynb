{
 "metadata": {
  "language_info": {
   "codemirror_mode": {
    "name": "ipython",
    "version": 3
   },
   "file_extension": ".py",
   "mimetype": "text/x-python",
   "name": "python",
   "nbconvert_exporter": "python",
   "pygments_lexer": "ipython3",
   "version": "3.7.6"
  },
  "orig_nbformat": 2,
  "kernelspec": {
   "name": "python37664bitf8e2583283754f7fa32289b3c170e018",
   "display_name": "Python 3.7.6 64-bit"
  },
  "metadata": {
   "interpreter": {
    "hash": "0600588c3b5f4418cbe7b5ebc6825b479f3bc010269d8b60d75058cdd010adfe"
   }
  }
 },
 "nbformat": 4,
 "nbformat_minor": 2,
 "cells": [
  {
   "cell_type": "code",
   "execution_count": 2,
   "metadata": {},
   "outputs": [],
   "source": [
    "from bvhtoolbox import Bvh"
   ]
  },
  {
   "cell_type": "code",
   "execution_count": 3,
   "metadata": {},
   "outputs": [],
   "source": [
    "bvh_filepath = '../samples/beatsaber_0_1_b.bvh'\n",
    "\n",
    "with open(bvh_filepath) as f:\n",
    "    bvh_file = Bvh(f.read())"
   ]
  },
  {
   "cell_type": "code",
   "execution_count": 4,
   "metadata": {},
   "outputs": [
    {
     "output_type": "execute_result",
     "data": {
      "text/plain": [
       "['Hips',\n",
       " 'LeftUpperLeg',\n",
       " 'LeftLowerLeg',\n",
       " 'LeftFoot',\n",
       " 'LeftToes',\n",
       " 'RightUpperLeg',\n",
       " 'RightLowerLeg',\n",
       " 'RightFoot',\n",
       " 'RightToes',\n",
       " 'Spine',\n",
       " 'Chest',\n",
       " 'UpperChest',\n",
       " 'LeftShoulder',\n",
       " 'LeftUpperArm',\n",
       " 'LeftLowerArm',\n",
       " 'LeftHand',\n",
       " 'Neck',\n",
       " 'Head',\n",
       " 'RightShoulder',\n",
       " 'RightUpperArm',\n",
       " 'RightLowerArm',\n",
       " 'RightHand']"
      ]
     },
     "metadata": {},
     "execution_count": 4
    }
   ],
   "source": [
    "bvh_file.get_joints_names()"
   ]
  },
  {
   "cell_type": "code",
   "execution_count": 7,
   "metadata": {},
   "outputs": [
    {
     "output_type": "stream",
     "name": "stdout",
     "text": [
      "\nOFFSET 0.00 0.00 0.00\nCHANNELS 6 Xposition Yposition Zposition Zrotation Xrotation Yrotation\nJOINT LeftUpperLeg\nJOINT RightUpperLeg\nJOINT Spine\n"
     ]
    }
   ],
   "source": [
    "root_joint = bvh_file.get_joint('Hips')\n",
    "for j in root_joint:\n",
    "    print(j)"
   ]
  },
  {
   "cell_type": "code",
   "execution_count": 79,
   "metadata": {},
   "outputs": [],
   "source": [
    "def print_values(iteratable_obj):\n",
    "    for o in iteratable_obj:\n",
    "        print(o)"
   ]
  },
  {
   "cell_type": "code",
   "execution_count": 80,
   "metadata": {},
   "outputs": [
    {
     "output_type": "stream",
     "name": "stdout",
     "text": [
      "OFFSET 0.00 0.00 0.00\nCHANNELS 6 Xposition Yposition Zposition Zrotation Xrotation Yrotation\nJOINT LeftUpperLeg\nJOINT RightUpperLeg\nJOINT Spine\n"
     ]
    }
   ],
   "source": [
    "root_joint = bvh_file.get_joint(bvh_file.root['ROOT'][0])\n",
    "print_values(root_joint)"
   ]
  },
  {
   "cell_type": "code",
   "execution_count": 81,
   "metadata": {
    "tags": []
   },
   "outputs": [
    {
     "output_type": "stream",
     "name": "stdout",
     "text": [
      "['0.308680', '1.039460', '-0.657690', '-6.499474', '3.104017', '19.372750', '0.288538', '-13.627510', '-0.481895', '1.415104', '27.674240', '-0.348695', '5.987649', '-17.031240', '17.851630', '0.000005', '0.015295', '0.210898', '-10.498260', '5.079259', '-32.282910', '0.004505', '0.088981', '-0.000413', '8.421024', '13.075360', '-4.449048', '-0.000220', '-5.874985', '0.000417', '-0.807257', '0.418094', '0.379163', '0.000000', '0.000000', '0.000000', '-1.619897', '0.831004', '0.764855', '-1.123447', '0.243423', '20.095910', '-74.432230', '5.420115', '3.616205', '-2.517669', '9.464352', '-16.945360', '42.967510', '25.716490', '-28.569420', '10.282900', '-1.663791', '-6.931583', '9.912028', '-1.905848', '-6.885983', '-1.028874', '2.234648', '-8.656346', '80.952170', '-13.740250', '35.634900', '16.142320', '11.220650', '69.696740', '-40.467810', '-16.410430', '12.718190']\n"
     ]
    }
   ],
   "source": [
    "print(bvh_file.frames[0])"
   ]
  },
  {
   "cell_type": "code",
   "execution_count": 45,
   "metadata": {},
   "outputs": [
    {
     "output_type": "stream",
     "name": "stdout",
     "text": [
      "ROOT Hips\n"
     ]
    }
   ],
   "source": [
    "def get_bindpose_table(bvh_in:Bvh):\n",
    "    root_joint = bvh_in.get_joint(bvh_in.root['ROOT'][0])\n",
    "\n",
    "get_bindpose_table(bvh_file)"
   ]
  },
  {
   "cell_type": "code",
   "execution_count": 54,
   "metadata": {},
   "outputs": [],
   "source": [
    "from collections import OrderedDict\n",
    "import transforms3d as t3d\n",
    "from transforms3d import quaternions as t3dq\n",
    "\n",
    "class BvhSkeltonNode:\n",
    "    def __init__(self, name, offset):\n",
    "        self.children = []\n",
    "        self.parent:BvhSkeltonNode = None\n",
    "        \n",
    "        self.name = name\n",
    "        self.local_position = offset,\n",
    "        self.local_rotation = None,\n",
    "        self.local_rotation_q = [0,0,0,0]\n",
    "        self.local_transform = None\n",
    "\n",
    "        self.world_position = None\n",
    "        self.world_rotation = None\n",
    "        self.world_rotation_q = None\n",
    "        self.world_transform = None\n",
    "\n",
    "    def calculate_world_transform(self):\n",
    "        self.matLocal = t3d.affines.compose(self.local_position, self.local_rotation, [1,1,1])\n",
    "\n",
    "        if self.parent != None:\n",
    "            self.world_transform = self.parent.world_transform.dot(self.local_transform)\n",
    "        else:\n",
    "            self.world_transform = self.local_transform\n",
    "\n",
    "        self.world_position, self.world_rotation, _, _ = t3d.affines.decompose(self.world_transform)\n",
    "        self.world_rotation_quat = t3dq.mat2quat(self.world_rotation)\n",
    "\n",
    "        for child in self.children:\n",
    "            child.CalculateWorld()\n",
    "\n",
    "class BvhSkeleton:\n",
    "    def __init__(self, bvh_filepath):\n",
    "        self.bvh_filepath = bvh_filepath\n",
    "        self.root = None\n",
    "        self.nodes = OrderedDict()\n",
    "        self.nodes_flat = []"
   ]
  },
  {
   "cell_type": "code",
   "execution_count": 112,
   "metadata": {},
   "outputs": [
    {
     "output_type": "stream",
     "name": "stdout",
     "text": [
      "[ 0.98405566  0.03618986 -0.16640931  0.05130978]\n"
     ]
    }
   ],
   "source": [
    "from math import radians\n",
    "def ZXYtoQUAD_Unity(z, x, y, y_up = True):\n",
    "    qZ = t3dq.axangle2quat([0,0,1], radians(z), True) #FORWARD/Z\n",
    "    qX = t3dq.axangle2quat([1,0,0], radians(x), True) #RIGHT/X\n",
    "    qY = t3dq.axangle2quat([0,1,0], radians(y), True) #UP/Y\n",
    "    q = t3dq.qmult(t3dq.qmult(qZ , qX) , qY)\n",
    "    #q /= t3dq.qnorm(q)\n",
    "\n",
    "    if y_up:\n",
    "        return q * [1,1,-1,-1]\n",
    "    \n",
    "    return q * [1,1,1,-1]\n",
    "\n",
    "def arrZXYtoQUAD_Unity(euler_in, y_up = True):\n",
    "    return ZXYtoQUAD_Unity(euler_in[0], euler_in[1], euler_in[2], y_up)\n",
    "\n",
    "euler = [-6.499474, 3.104017, 19.372750]\n",
    "print(arrZXYtoQUAD_Unity(euler))"
   ]
  },
  {
   "cell_type": "code",
   "execution_count": 84,
   "metadata": {},
   "outputs": [
    {
     "output_type": "execute_result",
     "data": {
      "text/plain": [
       "['Hips']"
      ]
     },
     "metadata": {},
     "execution_count": 84
    }
   ],
   "source": [
    "bvh_file.root['ROOT']"
   ]
  },
  {
   "cell_type": "code",
   "execution_count": 114,
   "metadata": {
    "tags": []
   },
   "outputs": [
    {
     "output_type": "execute_result",
     "data": {
      "text/plain": [
       "   Hips_px  Hips_py  Hips_pz   Hips_rw  Hips_rx   Hips_ry  Hips_rz  \\\n",
       "0  0.30868  1.03946 -0.65769  0.984056  0.03619 -0.166409  0.05131   \n",
       "1  0.30670  1.04040 -0.66078  0.981641  0.04235 -0.179760  0.04768   \n",
       "2  0.30528  1.04105 -0.66405  0.979352  0.04824 -0.191140  0.04482   \n",
       "3  0.30528  1.04105 -0.66405  0.979352  0.04824 -0.191140  0.04482   \n",
       "4  0.30336  1.04144 -0.66707  0.976948  0.05444 -0.201770  0.04357   \n",
       "\n",
       "   LeftUpperLeg_rw  LeftUpperLeg_rx  LeftUpperLeg_ry  ...  RightUpperArm_ry  \\\n",
       "0         0.992924        -0.118630         0.004474  ...         -0.157161   \n",
       "1         0.992139        -0.124355         0.013971  ...         -0.152640   \n",
       "2         0.991256        -0.130115         0.021335  ...         -0.155632   \n",
       "3         0.991256        -0.130115         0.021335  ...         -0.155632   \n",
       "4         0.990128        -0.137180         0.027729  ...         -0.162031   \n",
       "\n",
       "   RightUpperArm_rz  RightLowerArm_rw  RightLowerArm_rx  RightLowerArm_ry  \\\n",
       "0         -0.585716          0.800803         -0.000407         -0.574301   \n",
       "1         -0.591517          0.806116          0.005106         -0.569579   \n",
       "2         -0.597815          0.815994          0.006491         -0.560084   \n",
       "3         -0.597815          0.815994          0.006491         -0.560084   \n",
       "4         -0.602416          0.830559          0.002589         -0.542156   \n",
       "\n",
       "   RightLowerArm_rz  RightHand_rw  RightHand_rx  RightHand_ry  RightHand_rz  \n",
       "0         -0.169981      0.917502     -0.095173     -0.151917      0.355039  \n",
       "1         -0.160407      0.915394     -0.088945     -0.160569      0.358273  \n",
       "2         -0.142893      0.913491     -0.082485     -0.168685      0.360937  \n",
       "3         -0.142893      0.913491     -0.082485     -0.168685      0.360937  \n",
       "4         -0.127408      0.911110     -0.083880     -0.173209      0.364474  \n",
       "\n",
       "[5 rows x 91 columns]"
      ],
      "text/html": "<div>\n<style scoped>\n    .dataframe tbody tr th:only-of-type {\n        vertical-align: middle;\n    }\n\n    .dataframe tbody tr th {\n        vertical-align: top;\n    }\n\n    .dataframe thead th {\n        text-align: right;\n    }\n</style>\n<table border=\"1\" class=\"dataframe\">\n  <thead>\n    <tr style=\"text-align: right;\">\n      <th></th>\n      <th>Hips_px</th>\n      <th>Hips_py</th>\n      <th>Hips_pz</th>\n      <th>Hips_rw</th>\n      <th>Hips_rx</th>\n      <th>Hips_ry</th>\n      <th>Hips_rz</th>\n      <th>LeftUpperLeg_rw</th>\n      <th>LeftUpperLeg_rx</th>\n      <th>LeftUpperLeg_ry</th>\n      <th>...</th>\n      <th>RightUpperArm_ry</th>\n      <th>RightUpperArm_rz</th>\n      <th>RightLowerArm_rw</th>\n      <th>RightLowerArm_rx</th>\n      <th>RightLowerArm_ry</th>\n      <th>RightLowerArm_rz</th>\n      <th>RightHand_rw</th>\n      <th>RightHand_rx</th>\n      <th>RightHand_ry</th>\n      <th>RightHand_rz</th>\n    </tr>\n  </thead>\n  <tbody>\n    <tr>\n      <th>0</th>\n      <td>0.30868</td>\n      <td>1.03946</td>\n      <td>-0.65769</td>\n      <td>0.984056</td>\n      <td>0.03619</td>\n      <td>-0.166409</td>\n      <td>0.05131</td>\n      <td>0.992924</td>\n      <td>-0.118630</td>\n      <td>0.004474</td>\n      <td>...</td>\n      <td>-0.157161</td>\n      <td>-0.585716</td>\n      <td>0.800803</td>\n      <td>-0.000407</td>\n      <td>-0.574301</td>\n      <td>-0.169981</td>\n      <td>0.917502</td>\n      <td>-0.095173</td>\n      <td>-0.151917</td>\n      <td>0.355039</td>\n    </tr>\n    <tr>\n      <th>1</th>\n      <td>0.30670</td>\n      <td>1.04040</td>\n      <td>-0.66078</td>\n      <td>0.981641</td>\n      <td>0.04235</td>\n      <td>-0.179760</td>\n      <td>0.04768</td>\n      <td>0.992139</td>\n      <td>-0.124355</td>\n      <td>0.013971</td>\n      <td>...</td>\n      <td>-0.152640</td>\n      <td>-0.591517</td>\n      <td>0.806116</td>\n      <td>0.005106</td>\n      <td>-0.569579</td>\n      <td>-0.160407</td>\n      <td>0.915394</td>\n      <td>-0.088945</td>\n      <td>-0.160569</td>\n      <td>0.358273</td>\n    </tr>\n    <tr>\n      <th>2</th>\n      <td>0.30528</td>\n      <td>1.04105</td>\n      <td>-0.66405</td>\n      <td>0.979352</td>\n      <td>0.04824</td>\n      <td>-0.191140</td>\n      <td>0.04482</td>\n      <td>0.991256</td>\n      <td>-0.130115</td>\n      <td>0.021335</td>\n      <td>...</td>\n      <td>-0.155632</td>\n      <td>-0.597815</td>\n      <td>0.815994</td>\n      <td>0.006491</td>\n      <td>-0.560084</td>\n      <td>-0.142893</td>\n      <td>0.913491</td>\n      <td>-0.082485</td>\n      <td>-0.168685</td>\n      <td>0.360937</td>\n    </tr>\n    <tr>\n      <th>3</th>\n      <td>0.30528</td>\n      <td>1.04105</td>\n      <td>-0.66405</td>\n      <td>0.979352</td>\n      <td>0.04824</td>\n      <td>-0.191140</td>\n      <td>0.04482</td>\n      <td>0.991256</td>\n      <td>-0.130115</td>\n      <td>0.021335</td>\n      <td>...</td>\n      <td>-0.155632</td>\n      <td>-0.597815</td>\n      <td>0.815994</td>\n      <td>0.006491</td>\n      <td>-0.560084</td>\n      <td>-0.142893</td>\n      <td>0.913491</td>\n      <td>-0.082485</td>\n      <td>-0.168685</td>\n      <td>0.360937</td>\n    </tr>\n    <tr>\n      <th>4</th>\n      <td>0.30336</td>\n      <td>1.04144</td>\n      <td>-0.66707</td>\n      <td>0.976948</td>\n      <td>0.05444</td>\n      <td>-0.201770</td>\n      <td>0.04357</td>\n      <td>0.990128</td>\n      <td>-0.137180</td>\n      <td>0.027729</td>\n      <td>...</td>\n      <td>-0.162031</td>\n      <td>-0.602416</td>\n      <td>0.830559</td>\n      <td>0.002589</td>\n      <td>-0.542156</td>\n      <td>-0.127408</td>\n      <td>0.911110</td>\n      <td>-0.083880</td>\n      <td>-0.173209</td>\n      <td>0.364474</td>\n    </tr>\n  </tbody>\n</table>\n<p>5 rows × 91 columns</p>\n</div>"
     },
     "metadata": {},
     "execution_count": 114
    }
   ],
   "source": [
    "import pandas as pd\n",
    "import numpy as np\n",
    "\n",
    "def BvhToTrainSet(bvh_filepath):\n",
    "    with open(bvh_filepath) as f:\n",
    "        bvh_file = Bvh(f.read())\n",
    "\n",
    "    #Bvh Information\n",
    "    name_rootNode = bvh_file.root['ROOT'][0]\n",
    "    name_nodesFlat = bvh_file.get_joints_names()\n",
    "    \n",
    "    #Output Names\n",
    "    name_outputs = list()\n",
    "    name_outputs.append(f'{name_rootNode}_px')\n",
    "    name_outputs.append(f'{name_rootNode}_py')\n",
    "    name_outputs.append(f'{name_rootNode}_pz')\n",
    "    for n in name_nodesFlat:\n",
    "        name_outputs.append(f'{n}_rw')\n",
    "        name_outputs.append(f'{n}_rx')\n",
    "        name_outputs.append(f'{n}_ry')\n",
    "        name_outputs.append(f'{n}_rz')\n",
    "\n",
    "    #Pandas Dataframe\n",
    "    feature_count = len(name_outputs)\n",
    "    frame_count = len(bvh_file.frames)\n",
    "\n",
    "    #Frame data\n",
    "    np_frame = np.empty((frame_count ,feature_count))\n",
    "    for fn, f in enumerate(bvh_file.frames):\n",
    "        np_frame[fn,0] = f[0]\n",
    "        np_frame[fn,1] = f[1]\n",
    "        np_frame[fn,2] = f[2]\n",
    "        for r_idx in range(len(name_nodesFlat)):\n",
    "            f_idx = 3 + r_idx * 3\n",
    "            out_idx = 3 + (r_idx * 4)\n",
    "            r_q = ZXYtoQUAD_Unity(float(f[f_idx]), float(f[f_idx+1]), float(f[f_idx+2]))\n",
    "            np_frame[fn,out_idx] = r_q[0]      \n",
    "            np_frame[fn,out_idx+1] = r_q[1]      \n",
    "            np_frame[fn,out_idx+2] = r_q[2]      \n",
    "            np_frame[fn,out_idx+3] = r_q[3]         \n",
    "\n",
    "    return pd.DataFrame(data=np_frame, columns=name_outputs)\n",
    "\n",
    "df_out = BvhToTrainSet('../samples/beatsaber_0_1_b.bvh')\n",
    "df_out.head()"
   ]
  },
  {
   "cell_type": "code",
   "execution_count": null,
   "metadata": {},
   "outputs": [],
   "source": []
  },
  {
   "cell_type": "code",
   "execution_count": null,
   "metadata": {},
   "outputs": [],
   "source": []
  }
 ]
}